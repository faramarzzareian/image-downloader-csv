{
 "cells": [
  {
   "cell_type": "code",
   "execution_count": 2,
   "metadata": {},
   "outputs": [],
   "source": [
    "import pandas as pd\n",
    "b = pd.read_csv('./all_coins.csv')                     # Load the dataset  \n",
    "modDf = b.dropna(how='any', subset=['front', 'back'])  #drop the rows with no link\n",
    "modDf.to_csv('example.csv')                            #save as a new data set"
   ]
  },
  {
   "cell_type": "code",
   "execution_count": 3,
   "metadata": {},
   "outputs": [
    {
     "name": "stderr",
     "output_type": "stream",
     "text": [
      "C:\\Users\\faramarz\\Anaconda3\\lib\\site-packages\\IPython\\core\\interactiveshell.py:3147: DtypeWarning: Columns (9) have mixed types.Specify dtype option on import or set low_memory=False.\n",
      "  interactivity=interactivity, compiler=compiler, result=result)\n"
     ]
    }
   ],
   "source": [
    "b = pd.read_csv('./example.csv')      #read the new saved dataset"
   ]
  },
  {
   "cell_type": "code",
   "execution_count": null,
   "metadata": {},
   "outputs": [],
   "source": [
    "import urllib.request\n",
    "import requests\n",
    "import os\n",
    " \n",
    "for i in range(len(b.front)) :        # b.front = the column with links\n",
    "     \n",
    "    r = requests.get(b.front[i])      #get the links number 1 to .... \n",
    "    path= b.front[i]\n",
    "    r = requests.get(path)            \n",
    "    firstpos=path.rfind(\"/\")\n",
    "    lastpos=len(path)   \n",
    "    \n",
    "\n",
    "    \n",
    "    with open(r'C:/Users/faramarz/Desktop/classification images/images/' + path[firstpos+1:lastpos], \"wb\") as f:  #this part is location to save the images and sedon one is the original name of image you want to save\n",
    "        f.write(r.content)                                    # write and save the file.\n",
    "    print(path[firstpos+1:lastpos])                           #show the name of images saved\n",
    "    print(b.front[i])                                         # the link of each image which is saved"
   ]
  },
  {
   "cell_type": "code",
   "execution_count": null,
   "metadata": {},
   "outputs": [],
   "source": []
  }
 ],
 "metadata": {
  "kernelspec": {
   "display_name": "Python 3",
   "language": "python",
   "name": "python3"
  },
  "language_info": {
   "codemirror_mode": {
    "name": "ipython",
    "version": 3
   },
   "file_extension": ".py",
   "mimetype": "text/x-python",
   "name": "python",
   "nbconvert_exporter": "python",
   "pygments_lexer": "ipython3",
   "version": "3.7.7"
  }
 },
 "nbformat": 4,
 "nbformat_minor": 4
}
